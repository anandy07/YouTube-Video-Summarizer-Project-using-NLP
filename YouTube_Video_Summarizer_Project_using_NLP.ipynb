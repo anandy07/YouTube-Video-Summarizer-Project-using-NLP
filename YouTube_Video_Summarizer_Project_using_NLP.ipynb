{
  "cells": [
    {
      "cell_type": "code",
      "execution_count": 37,
      "metadata": {
        "id": "KeBo3ZF7Fn_a"
      },
      "outputs": [],
      "source": [
        "!pip install -q transformers"
      ]
    },
    {
      "cell_type": "code",
      "execution_count": 38,
      "metadata": {
        "id": "GnNAd6o4FoBf"
      },
      "outputs": [],
      "source": [
        "!pip install -q youtube_transcript_api"
      ]
    },
    {
      "cell_type": "code",
      "execution_count": 39,
      "metadata": {
        "id": "coLFXLkLFoDl"
      },
      "outputs": [],
      "source": [
        "from transformers import pipeline\n",
        "from youtube_transcript_api import YouTubeTranscriptApi\n"
      ]
    },
    {
      "cell_type": "code",
      "execution_count": 40,
      "metadata": {
        "id": "MWzBUAyCFoFt"
      },
      "outputs": [],
      "source": [
        "youtube_video = \"https://youtu.be/nznFtfgP2ks?si=M5OHTdIif7JHr8uL\""
      ]
    },
    {
      "cell_type": "code",
      "execution_count": 41,
      "metadata": {
        "id": "ZWBCLEMGJLLQ"
      },
      "outputs": [],
      "source": [
        "def get_video_id(url):\n",
        "    if \"youtu.be\" in url:\n",
        "        return url.split(\"/\")[-1].split(\"?\")[0]\n",
        "    elif \"youtube.com\" in url:\n",
        "        return url.split(\"v=\")[-1].split(\"&\")[0]\n",
        "    else:\n",
        "        return None\n",
        "\n",
        "\n",
        "video_id = get_video_id(youtube_video)\n"
      ]
    },
    {
      "cell_type": "code",
      "execution_count": 42,
      "metadata": {
        "colab": {
          "base_uri": "https://localhost:8080/",
          "height": 35
        },
        "id": "1atAS7DKJLNT",
        "outputId": "aaf26f13-e91b-4188-d140-8d4f79006c46"
      },
      "outputs": [
        {
          "output_type": "execute_result",
          "data": {
            "text/plain": [
              "'nznFtfgP2ks'"
            ],
            "application/vnd.google.colaboratory.intrinsic+json": {
              "type": "string"
            }
          },
          "metadata": {},
          "execution_count": 42
        }
      ],
      "source": [
        "video_id"
      ]
    },
    {
      "cell_type": "code",
      "execution_count": 43,
      "metadata": {
        "colab": {
          "base_uri": "https://localhost:8080/",
          "height": 321
        },
        "id": "7qkxa-M8JLPa",
        "outputId": "8521df40-d22d-46fc-ef52-933f23f3a6d3"
      },
      "outputs": [
        {
          "output_type": "execute_result",
          "data": {
            "text/plain": [
              "<IPython.lib.display.YouTubeVideo at 0x7d6529105cd0>"
            ],
            "text/html": [
              "\n",
              "        <iframe\n",
              "            width=\"400\"\n",
              "            height=\"300\"\n",
              "            src=\"https://www.youtube.com/embed/nznFtfgP2ks\"\n",
              "            frameborder=\"0\"\n",
              "            allowfullscreen\n",
              "            \n",
              "        ></iframe>\n",
              "        "
            ],
            "image/jpeg": "[encoded data removed]"
          },
          "metadata": {},
          "execution_count": 43
        }
      ],
      "source": [
        "from IPython.display import YouTubeVideo\n",
        "YouTubeVideo(video_id)"
      ]
    },
    {
      "cell_type": "code",
      "execution_count": 44,
      "metadata": {
        "id": "CfLrbVXfJLRu"
      },
      "outputs": [],
      "source": [
        "YouTubeTranscriptApi.get_transcript(video_id)\n",
        "transcript = YouTubeTranscriptApi.get_transcript(video_id)\n"
      ]
    },
    {
      "cell_type": "code",
      "execution_count": 45,
      "metadata": {
        "colab": {
          "base_uri": "https://localhost:8080/"
        },
        "id": "duBALHl-JLT2",
        "outputId": "5c9ac52a-a430-48fd-e472-735f3c414d6a"
      },
      "outputs": [
        {
          "output_type": "execute_result",
          "data": {
            "text/plain": [
              "[{'text': \"if you're looking to break into AI\",\n",
              "  'start': 0.16,\n",
              "  'duration': 3.279},\n",
              " {'text': \"efficiently you're in the right place in\",\n",
              "  'start': 1.76,\n",
              "  'duration': 3.12},\n",
              " {'text': \"this video I'm going to show you how to\",\n",
              "  'start': 3.439,\n",
              "  'duration': 4.041},\n",
              " {'text': 'self-study AI with proven road map all',\n",
              "  'start': 4.88,\n",
              "  'duration': 4.32},\n",
              " {'text': 'free of charge when I first started',\n",
              "  'start': 7.48,\n",
              "  'duration': 3.8}]"
            ]
          },
          "metadata": {},
          "execution_count": 45
        }
      ],
      "source": [
        "transcript[0:5]"
      ]
    },
    {
      "cell_type": "code",
      "execution_count": 46,
      "metadata": {
        "colab": {
          "base_uri": "https://localhost:8080/"
        },
        "id": "QZhWR53jJLWK",
        "outputId": "9c9a5438-bf83-40ee-a5cf-cfe034b9eed5"
      },
      "outputs": [
        {
          "output_type": "stream",
          "name": "stdout",
          "text": [
            "9068\n"
          ]
        }
      ],
      "source": [
        "result = \" \".join(i['text'] for i in transcript)\n",
        "print(len(result))\n"
      ]
    },
    {
      "cell_type": "code",
      "execution_count": 47,
      "metadata": {
        "colab": {
          "base_uri": "https://localhost:8080/"
        },
        "id": "YzYc-DI7JLYP",
        "outputId": "fc7e6111-2d47-4a20-b5f1-fff6d209fadc"
      },
      "outputs": [
        {
          "output_type": "stream",
          "name": "stderr",
          "text": [
            "No model was supplied, defaulted to sshleifer/distilbart-cnn-12-6 and revision a4f8f3e (https://huggingface.co/sshleifer/distilbart-cnn-12-6).\n",
            "Using a pipeline without specifying a model name and revision in production is not recommended.\n",
            "Device set to use cpu\n"
          ]
        }
      ],
      "source": [
        "summarizer = pipeline('summarization')"
      ]
    },
    {
      "cell_type": "code",
      "execution_count": 48,
      "metadata": {
        "colab": {
          "base_uri": "https://localhost:8080/"
        },
        "id": "NlmTzxWTJLal",
        "outputId": "360f93ca-12af-4853-f1df-4de50727194e"
      },
      "outputs": [
        {
          "output_type": "stream",
          "name": "stdout",
          "text": [
            "Input Text:\n",
            "if you're looking to break into AI efficiently you're in the right place in this video I'm going to show you how to self-study AI with proven road map all free of charge when I first started learning AI on my own it was really overwhelming to go through so many resources to figure out what is relevant or appropriate there are just too many options out there that's why today I'm really excited to share this road map with you and it's not just a random plan that I put together it's a structured stepbystep guide based on a proven curriculum from one of the best AI programs in the world the Stanford AI graduate certificate program everyone knows that Stanford is top tier but it's also one of the most expensive options out there tuition alone costs around $19,000 to $24,000 and that's a huge investment that not everyone can afford but lucky for you I'll show you how you can follow the same exact path without spending a dime I've put together a 15-page road map that contains all the free res\n",
            "\n",
            "Summarized Text:\n",
            " If you're looking to break into AI efficiently you're in the right place in this video I'm going to show you how to self-study AI with proven road map all free of charge . Stanford AI graduate certificate program costs around $19,000 to $24,000 .\n",
            "\n",
            "Input Text:\n",
            "ources that you're going to need to master AI now if you want just the road map you can download it from the link in the description but if you stick around for the full video I'll share my personal tips on how to get the most out of the guide and highlight some of the common pitfalls that people often miss and I'm not going to waste your time with the usual why you need to learn AI Spiel I'm sure you already know the value of AI That's why you're watching this video so let's skip the fluff and get straight to it let's first talk about what the journey is going to really look like if you're hoping for a quick fix I do need to set some expectations here I'm not going to be offering any magic shortcut the reality is that most students even at Stanford take about one to two years studying parttime so for the self-study option it could take anywhere from 1 to 3 years depending on your schedule and your background and here are some things that will influence how quickly you progress one is\n",
            "\n",
            "Summarized Text:\n",
            " ources that you're going to need to master AI now if you want just the road map you can download it from the link in the description . I'll share my personal tips on how to get the most out of the guide . I'm not going to be offering any magic shortcut the reality is that most students even at Stanford take about one to two years studying parttime .\n",
            "\n",
            "Input Text:\n",
            "your experience level if you already have a strong foundation in math and programming you can Breeze through some of the early content otherwise you'll need to dedicate more time on those more foundational topics which we'll cover in a bit two is time commitment the more time you put in the faster you'll get through the material you can think of it sort of like building muscle in the gym consistency is important number three is depth of learning if you're looking to master the material you'll need to go beyond the basics which could take longer but remember that this is not a Race So focus on understanding and really learning the material so you can set yourself up for success in the future first you need to lay a strong foundation in math is a crucial step in AI especially in machine learning so if you're already comfortable with basic math and programming you can jump ahead to phase three where we dive deeper into AI fundamentals so first you're going to need calculus and understand\n",
            "\n",
            "Summarized Text:\n",
            " You need to lay a strong foundation in math is a crucial step in AI especially in machine learning . If you're already comfortable with basic math and programming you can jump ahead to phase three where we dive deeper into AI fundamentals . Remember that this is not a Race so focus on understanding and really learning the material so you can set yourself up for success .\n",
            "\n",
            "Input Text:\n",
            "key Concepts like derivatives integrals and fundamental theorems Stanford usually covers these in maass 19 and maass 20 but you can find free resources on platforms like KH Han Academy or MIT open course whereare I personally like to learn from books so if you're like me the book that Stanford recommend is called calculus by New Horizon they recommend at least sixth edition or later and this is a paid resource so you can get this on Amazon for each Topic in my guide whenever I could find free written materials or courses I've linked it in the road map otherwise I marked it as a paid resource so you can look out for that Mark next is linear algebra you're going to need to master Matrix operations Vector spaces and linear Transformations free courses include conmy and Sheldon Axel's linear algebra done write another four to 6 weeks it's reasonable estimate for the section again next is probability and statistics introduction to probability and statistics by MIT open courseware it's a gre\n",
            "\n",
            "Summarized Text:\n",
            " Stanford usually covers these in maass 19 and maass 20 but you can find free resources on platforms like KH Han Academy or MIT open course whereare I personally like to learn from books so if you're like me the book that Stanford recommend is called calculus by New Horizon they recommend at least sixth edition or later .\n",
            "\n",
            "Input Text:\n",
            "at free resource if you look at the syllabus for probability you will learn things like counting random variables distributions conditional probability joint distributions and Central limit theorem for statistics you'll learn the a inference with known and unknown priors as well as linear regression if you're just starting out with these topics take a slow and practice with examples to you get comfortable with it you can also start exploring basic machine models and AI projects while building up your math skills at the same time okay once you have your math foundations it's time to build your programming skills which are crucial for AI development again if you're already familiar with this step you can go ahead and Skip to phase three first first thing you're going to need is Linux command line since many AI tools run on Linux based systems there are free resources like Linux Academy or ubuntu's beginners guide and I would spend about 1 to two weeks here next is objectoriented programm\n",
            "\n",
            "Summarized Text:\n",
            " Skip to phase three first first thing you're going to need is Linux command line since many AI tools run on Linux based systems there are free resources like Linux Academy or ubuntu's beginners guide and I would spend about 1 to two weeks here next is objectoriented programm .\n",
            "\n",
            "Input Text:\n",
            "ing Stanford recommends this as a prerequisite the op principles are essential for AI so get familiar with the basic concepts like data types control flow functions and check out free resources on code academy next is data structure and algorithms this is another essential for optimizing your AI models you will want to understand list Stacks sorting algorithms and search algorithms plan for about 4 to 6 weeks here next is probably the most important part which is python python is the primary language for AI so start with free resources like Google's python class there's also a free book called automate the boring stuff for additional resources okay once you're comfortable with python you can dive into python libraries like numpy tensor flow pie torch or pandas expect at least four to 6 weeks for python basic courses plus another 4 to8 weeks for the deeper dive into the machine learning libraries now comes the exciting part the AI fundamentals here you're going to choose one of the two\n",
            "\n",
            "Summarized Text:\n",
            " Stanford recommends this as a prerequisite the op principles are essential for AI so get familiar with the basic concepts like data types control flow functions and check out free resources on code academy next is data structure and algorithms this is another essential for optimizing your AI models you will want to understand list Stacks sorting algorithms and search algorithms .\n",
            "\n",
            "Input Text:\n",
            "path versus machine learning or broader AI topic while Stanford's AI program asks you to specialize in one or the other you can always explore both if you're learning independently and if you're not sure what is the difference between the two I do have another video explaining it so you can watch it later but for now if you're not sure what to do or if you want to do both I would recommend you start with a broader AI class this will give you an overall understanding of AI covering topics like constraint satisfaction gaml markup decision process graphical models and logic there are lots of Great Courses and I recommend courses like mit's intro to AI or Stanford's logic series on YouTube if you want to choose machine learning this is really the part of AI focusing on algorithms that help machine learn from data and topics for this include things like supervised learning unsupervised learning and reinforcement learning I've linked lots of free resources from Stanford CS 229 cores and you\n",
            "\n",
            "Summarized Text:\n",
            " Stanford's AI program asks you to specialize in one or the other . I've linked lots of free resources from Stanford CS 229 cores and you can always explore both if you're learning independently . If you want to choose machine learning this is really the part of AI focusing on algorithms that help machine learn from data and topics for this include things like supervised learning .\n",
            "\n",
            "Input Text:\n",
            "can also check out Andrew in's machine learning specialization on corsera or fast ai's introduction to machine learning for coders they also have the whole syllabus available with lots of written materials and slides and notes including the main notes by Andrew in all available for free this main notes is a comprehensive 216 page PDF so I highly recommend you check it out with either the AI or the machine learning classes you will work on projects for the later part of the course and Stanford has a lot of guidelines on how to come up with your projects and how to work on your projects so when you're choosing your project topic you can focus on application of machine learning or developing a new algorithm or exploring theoretical prop properties of algorithm a top project as Stanford considers it can be a publishable quality for submission to conferences or journals for inspiration review recent machine learning research papers from major conferences like icml or neural IPS or you can a\n",
            "\n",
            "Summarized Text:\n",
            " Stanford has a lot of guidelines on how to come up with your projects and how to work on your projects . The whole syllabus is available with lots of written materials and slides and notes including the main notes by Andrew in all available for free this main notes is a comprehensive 216 page PDF .\n",
            "\n",
            "Input Text:\n",
            "lso look at Stanford past class projects for ideas and of course the links are all in the document now once you have mastered the AI fundamentals it's time for you to pick electives at Stanford you can choose up to three electives from Deep learning computer vision robotics natural language processing reimbursement learning in the PDF road map you'll find more details on each topic along with free resources for learning the good news is that many of Stanford's Advanced courses are available entirely for free online either through YouTube or the Stamford website itself it did take me some time to Google and put everything together in one document but now you have it all so with the right motivation and passion anyone can really access this knowledge and learn these skills regardless of their background or financial circumstances but even if you master all the topics that I just mentioned there is still one big key missing if you want to find the final key you can watch this video otherw\n",
            "\n"
          ]
        },
        {
          "output_type": "stream",
          "name": "stderr",
          "text": [
            "Your max_length is set to 142, but your input_length is only 17. Since this is a summarization task, where outputs shorter than the input are typically wanted, you might consider decreasing max_length manually, e.g. summarizer('...', max_length=8)\n"
          ]
        },
        {
          "output_type": "stream",
          "name": "stdout",
          "text": [
            "Summarized Text:\n",
            " In the PDF road map you'll find more details on each topic along with free resources for learning . Many of Stanford's Advanced courses are available entirely for free online either through YouTube or the Stamford website itself . Even if you master all the topics that I just mentioned there is still one big key missing .\n",
            "\n",
            "Input Text:\n",
            "ise YouTube thinks you should watch this one next I'll see you there\n",
            "\n",
            "Summarized Text:\n",
            " YouTube thinks you should watch this one next I'll see you there. ise YouTube thinks it's a good idea to watch this video. I'll be back in touch with you next week to check out the rest of the world's favorite YouTube video . I'll also see you next in the world.\n",
            "\n"
          ]
        }
      ],
      "source": [
        "chunk_size = 1000\n",
        "summarized_text = []\n",
        "\n",
        "for i in range(0, len(result), chunk_size):\n",
        "    chunk = result[i:i + chunk_size].strip()\n",
        "    if not chunk:\n",
        "        continue\n",
        "    print(f\"Input Text:\\n{chunk}\\n\")\n",
        "\n",
        "    summary = summarizer(chunk)[0]['summary_text']\n",
        "\n",
        "    print(f\"Summarized Text:\\n{summary}\\n\")\n",
        "    summarized_text.append(summary)\n",
        "\n",
        "# Optional: Combine all summaries\n",
        "# final_summary = \" \".join(summarized_text)\n"
      ]
    },
    {
      "cell_type": "code",
      "execution_count": 49,
      "metadata": {
        "colab": {
          "base_uri": "https://localhost:8080/",
          "height": 143
        },
        "id": "hVMgPcIGJLcc",
        "outputId": "7dd22071-3b68-412f-a9ad-4adb65e395a8"
      },
      "outputs": [
        {
          "output_type": "execute_result",
          "data": {
            "text/plain": [
              "'[\" If you\\'re looking to break into AI efficiently you\\'re in the right place in this video I\\'m going to show you how to self-study AI with proven road map all free of charge . Stanford AI graduate certificate program costs around $19,000 to $24,000 .\", \" ources that you\\'re going to need to master AI now if you want just the road map you can download it from the link in the description . I\\'ll share my personal tips on how to get the most out of the guide . I\\'m not going to be offering any magic shortcut the reality is that most students even at Stanford take about one to two years studying parttime .\", \" You need to lay a strong foundation in math is a crucial step in AI especially in machine learning . If you\\'re already comfortable with basic math and programming you can jump ahead to phase three where we dive deeper into AI fundamentals . Remember that this is not a Race so focus on understanding and really learning the material so you can set yourself up for success .\", \" Stanford usually covers these in maass 19 and maass 20 but you can find free resources on platforms like KH Han Academy or MIT open course whereare I personally like to learn from books so if you\\'re like me the book that Stanford recommend is called calculus by New Horizon they recommend at least sixth edition or later .\", \" Skip to phase three first first thing you\\'re going to need is Linux command line since many AI tools run on Linux based systems there are free resources like Linux Academy or ubuntu\\'s beginners guide and I would spend about 1 to two weeks here next is objectoriented programm .\", \\' Stanford recommends this as a prerequisite the op principles are essential for AI so get familiar with the basic concepts like data types control flow functions and check out free resources on code academy next is data structure and algorithms this is another essential for optimizing your AI models you will want to understand list Stacks sorting algorithms and search algorithms .\\', \" Stanford\\'s AI program asks you to specialize in one or the other . I\\'ve linked lots of free resources from Stanford CS 229 cores and you can always explore both if you\\'re learning independently . If you want to choose machine learning this is really the part of AI focusing on algorithms that help machine learn from data and topics for this include things like supervised learning .\", \\' Stanford has a lot of guidelines on how to come up with your projects and how to work on your projects . The whole syllabus is available with lots of written materials and slides and notes including the main notes by Andrew in all available for free this main notes is a comprehensive 216 page PDF .\\', \" In the PDF road map you\\'ll find more details on each topic along with free resources for learning . Many of Stanford\\'s Advanced courses are available entirely for free online either through YouTube or the Stamford website itself . Even if you master all the topics that I just mentioned there is still one big key missing .\", \" YouTube thinks you should watch this one next I\\'ll see you there. ise YouTube thinks it\\'s a good idea to watch this video. I\\'ll be back in touch with you next week to check out the rest of the world\\'s favorite YouTube video . I\\'ll also see you next in the world.\"]'"
            ],
            "application/vnd.google.colaboratory.intrinsic+json": {
              "type": "string"
            }
          },
          "metadata": {},
          "execution_count": 49
        }
      ],
      "source": [
        "str(summarized_text)"
      ]
    }
  ],
  "metadata": {
    "colab": {
      "provenance": []
    },
    "kernelspec": {
      "display_name": "Python 3",
      "name": "python3"
    },
    "language_info": {
      "name": "python"
    }
  },
  "nbformat": 4,
  "nbformat_minor": 0
}